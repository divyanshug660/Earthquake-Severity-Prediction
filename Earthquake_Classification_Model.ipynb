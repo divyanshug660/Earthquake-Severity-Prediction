{
 "cells": [
  {
   "cell_type": "markdown",
   "id": "58629285",
   "metadata": {},
   "source": [
    "# Earthquake Magnitude Classification\n",
    "A machine learning model to classify earthquake magnitude levels based on Latitude, Longitude, and Depth."
   ]
  },
  {
   "cell_type": "code",
   "execution_count": null,
   "id": "ad0d4b6c",
   "metadata": {},
   "outputs": [],
   "source": [
    "import pandas as pd\n",
    "import numpy as np\n",
    "import joblib\n",
    "import seaborn as sns\n",
    "import matplotlib.pyplot as plt\n",
    "\n",
    "from sklearn.model_selection import train_test_split\n",
    "from sklearn.preprocessing import StandardScaler\n",
    "from sklearn.ensemble import RandomForestClassifier\n",
    "from sklearn.metrics import classification_report, confusion_matrix, accuracy_score"
   ]
  },
  {
   "cell_type": "code",
   "execution_count": null,
   "id": "05c4b077",
   "metadata": {},
   "outputs": [],
   "source": [
    "def load_data(path):\n",
    "    df = pd.read_csv(path)\n",
    "    df = df.dropna()\n",
    "    return df"
   ]
  },
  {
   "cell_type": "code",
   "execution_count": null,
   "id": "a570c6fa",
   "metadata": {},
   "outputs": [],
   "source": [
    "def label_magnitude(df):\n",
    "    def classify(mag):\n",
    "        if mag < 4.0:\n",
    "            return 'Low'\n",
    "        elif 4.0 <= mag < 6.0:\n",
    "            return 'Moderate'\n",
    "        else:\n",
    "            return 'High'\n",
    "    df['Magnitude_Class'] = df['Magnitude'].apply(classify)\n",
    "    return df"
   ]
  },
  {
   "cell_type": "code",
   "execution_count": null,
   "id": "7e807e71",
   "metadata": {},
   "outputs": [],
   "source": [
    "def preprocess_data(df):\n",
    "    X = df[['Latitude', 'Longitude', 'Depth']]\n",
    "    y = df['Magnitude_Class'].map({'Low': 0, 'Moderate': 1, 'High': 2})\n",
    "    return train_test_split(X, y, test_size=0.2, random_state=42)"
   ]
  },
  {
   "cell_type": "code",
   "execution_count": null,
   "id": "961cdedc",
   "metadata": {},
   "outputs": [],
   "source": [
    "def scale_features(X_train, X_test):\n",
    "    scaler = StandardScaler()\n",
    "    X_train_scaled = scaler.fit_transform(X_train)\n",
    "    X_test_scaled = scaler.transform(X_test)\n",
    "    return X_train_scaled, X_test_scaled, scaler"
   ]
  },
  {
   "cell_type": "code",
   "execution_count": null,
   "id": "7804978f",
   "metadata": {},
   "outputs": [],
   "source": [
    "def train_model(X_train, y_train):\n",
    "    model = RandomForestClassifier(n_estimators=100, random_state=42)\n",
    "    model.fit(X_train, y_train)\n",
    "    return model"
   ]
  },
  {
   "cell_type": "code",
   "execution_count": null,
   "id": "13eac34c",
   "metadata": {},
   "outputs": [],
   "source": [
    "def evaluate_model(model, X_test, y_test):\n",
    "    y_pred = model.predict(X_test)\n",
    "    acc = accuracy_score(y_test, y_pred)\n",
    "    report = classification_report(y_test, y_pred, target_names=['Low', 'Moderate', 'High'])\n",
    "    cm = confusion_matrix(y_test, y_pred)\n",
    "    print(f\"\\nAccuracy: {acc:.4f}\\n\")\n",
    "    print(\"Classification Report:\\n\", report)\n",
    "    plt.figure(figsize=(6, 5))\n",
    "    sns.heatmap(cm, annot=True, fmt='d', cmap='Blues',\n",
    "                xticklabels=['Low', 'Moderate', 'High'],\n",
    "                yticklabels=['Low', 'Moderate', 'High'])\n",
    "    plt.title(\"Confusion Matrix\")\n",
    "    plt.xlabel(\"Predicted\")\n",
    "    plt.ylabel(\"Actual\")\n",
    "    plt.tight_layout()\n",
    "    plt.savefig(\"confusion_matrix.png\")\n",
    "    plt.close()"
   ]
  },
  {
   "cell_type": "code",
   "execution_count": null,
   "id": "6321774b",
   "metadata": {},
   "outputs": [],
   "source": [
    "def save_artifacts(model, scaler):\n",
    "    joblib.dump(model, 'earthquake_model.pkl')\n",
    "    joblib.dump(scaler, 'scaler.pkl')"
   ]
  },
  {
   "cell_type": "code",
   "execution_count": null,
   "id": "aa78a136",
   "metadata": {},
   "outputs": [],
   "source": [
    "data_path = 'earthquake_data.csv'\n",
    "df = load_data(data_path)\n",
    "df = label_magnitude(df)\n",
    "X_train, X_test, y_train, y_test = preprocess_data(df)\n",
    "X_train_scaled, X_test_scaled, scaler = scale_features(X_train, X_test)\n",
    "model = train_model(X_train_scaled, y_train)\n",
    "evaluate_model(model, X_test_scaled, y_test)\n",
    "save_artifacts(model, scaler)"
   ]
  }
 ],
 "metadata": {},
 "nbformat": 4,
 "nbformat_minor": 5
}
